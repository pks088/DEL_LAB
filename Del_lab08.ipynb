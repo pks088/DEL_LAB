{
  "nbformat": 4,
  "nbformat_minor": 0,
  "metadata": {
    "colab": {
      "provenance": []
    },
    "kernelspec": {
      "name": "python3",
      "display_name": "Python 3"
    },
    "language_info": {
      "name": "python"
    }
  },
  "cells": [
    {
      "cell_type": "code",
      "execution_count": 1,
      "metadata": {
        "colab": {
          "base_uri": "https://localhost:8080/"
        },
        "id": "Q0cmItmU7N9T",
        "outputId": "83cbfa4b-fa39-438e-b3dd-27c36300bff5"
      },
      "outputs": [
        {
          "output_type": "stream",
          "name": "stdout",
          "text": [
            "Epoch 1/10, Train Loss: 1.3915, Val Loss: 0.6924\n",
            "Epoch 2/10, Train Loss: 1.3844, Val Loss: 0.6875\n",
            "Epoch 3/10, Train Loss: 1.3779, Val Loss: 0.6834\n",
            "Epoch 4/10, Train Loss: 1.3751, Val Loss: 0.6798\n",
            "Epoch 5/10, Train Loss: 1.3717, Val Loss: 0.6750\n",
            "Epoch 6/10, Train Loss: 1.3662, Val Loss: 0.6703\n",
            "Epoch 7/10, Train Loss: 1.3645, Val Loss: 0.6652\n",
            "Epoch 8/10, Train Loss: 1.3570, Val Loss: 0.6585\n",
            "Epoch 9/10, Train Loss: 1.3537, Val Loss: 0.6514\n",
            "Epoch 10/10, Train Loss: 1.3490, Val Loss: 0.6430\n"
          ]
        }
      ],
      "source": [
        "import torch\n",
        "import torch.nn as nn\n",
        "import torch.optim as optim\n",
        "from torch.utils.data import DataLoader, TensorDataset\n",
        "import numpy as np\n",
        "\n",
        "torch.manual_seed(0)\n",
        "X = torch.rand(1000, 10)\n",
        "y = (torch.sum(X, dim=1) > 5).float().unsqueeze(1)\n",
        "\n",
        "train_data = TensorDataset(X[:800], y[:800])\n",
        "val_data = TensorDataset(X[800:], y[800:])\n",
        "train_loader = DataLoader(train_data, batch_size=64, shuffle=True)\n",
        "val_loader = DataLoader(val_data, batch_size=64)\n",
        "\n",
        "\n",
        "class NeuralNet(nn.Module):\n",
        "    def __init__(self):\n",
        "        super(NeuralNet, self).__init__()\n",
        "        self.network = nn.Sequential(\n",
        "            nn.Linear(10, 64),\n",
        "            nn.ReLU(),\n",
        "            nn.Linear(64, 32),\n",
        "            nn.ReLU(),\n",
        "            nn.Linear(32, 1),\n",
        "            nn.Sigmoid()\n",
        "        )\n",
        "\n",
        "    def forward(self, x):\n",
        "        return self.network(x)\n",
        "\n",
        "\n",
        "def generate_adversarial_examples(model, inputs, labels, epsilon=0.1):\n",
        "    inputs.requires_grad = True\n",
        "    outputs = model(inputs)\n",
        "    loss = nn.BCELoss()(outputs, labels)\n",
        "    loss.backward()\n",
        "    adversarial_inputs = inputs + epsilon * inputs.grad.sign()\n",
        "    return torch.clamp(adversarial_inputs, 0, 1)\n",
        "\n",
        "def tangent_vector(inputs, transformation=\"rotation\", angle=0.1):\n",
        "    if transformation == \"rotation\":\n",
        "        return inputs + angle * torch.rand_like(inputs)\n",
        "\n",
        "    return inputs\n",
        "\n",
        "def tangent_propagation_loss(model, inputs):\n",
        "    perturbed_inputs = tangent_vector(inputs)\n",
        "    original_outputs = model(inputs)\n",
        "    perturbed_outputs = model(perturbed_inputs)\n",
        "    return nn.MSELoss()(original_outputs, perturbed_outputs)\n",
        "\n",
        "model = NeuralNet()\n",
        "optimizer = optim.Adam(model.parameters(), lr=0.001)\n",
        "criterion = nn.BCELoss()\n",
        "\n",
        "def train_adversarial_tangent(model, train_loader, val_loader, num_epochs=10, epsilon=0.1, lambda_tangent=0.1):\n",
        "    for epoch in range(num_epochs):\n",
        "        model.train()\n",
        "        train_loss = 0.0\n",
        "        for inputs, labels in train_loader:\n",
        "\n",
        "            outputs = model(inputs)\n",
        "            loss_clean = criterion(outputs, labels)\n",
        "\n",
        "\n",
        "            adversarial_inputs = generate_adversarial_examples(model, inputs, labels)\n",
        "            outputs_adv = model(adversarial_inputs)\n",
        "            loss_adversarial = criterion(outputs_adv, labels)\n",
        "\n",
        "\n",
        "            loss_tangent = tangent_propagation_loss(model, inputs)\n",
        "\n",
        "\n",
        "            loss = loss_clean + loss_adversarial + lambda_tangent * loss_tangent\n",
        "\n",
        "\n",
        "            optimizer.zero_grad()\n",
        "            loss.backward()\n",
        "            optimizer.step()\n",
        "\n",
        "            train_loss += loss.item()\n",
        "\n",
        "\n",
        "        model.eval()\n",
        "        val_loss = 0.0\n",
        "        with torch.no_grad():\n",
        "            for inputs, labels in val_loader:\n",
        "                outputs = model(inputs)\n",
        "                loss = criterion(outputs, labels)\n",
        "                val_loss += loss.item()\n",
        "\n",
        "\n",
        "        train_loss /= len(train_loader)\n",
        "        val_loss /= len(val_loader)\n",
        "        print(f\"Epoch {epoch+1}/{num_epochs}, Train Loss: {train_loss:.4f}, Val Loss: {val_loss:.4f}\")\n",
        "\n",
        "\n",
        "train_adversarial_tangent(model, train_loader, val_loader)\n"
      ]
    },
    {
      "cell_type": "code",
      "source": [],
      "metadata": {
        "id": "es2VAyIz-E6N"
      },
      "execution_count": null,
      "outputs": []
    }
  ]
}